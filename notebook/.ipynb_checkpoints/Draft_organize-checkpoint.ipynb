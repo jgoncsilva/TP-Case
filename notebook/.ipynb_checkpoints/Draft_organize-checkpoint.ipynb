{
 "cells": [
  {
   "cell_type": "markdown",
   "metadata": {},
   "source": [
    "#### 1.6.1.1 Metric Analysis - ANSWER RATE"
   ]
  },
  {
   "cell_type": "code",
   "execution_count": null,
   "metadata": {},
   "outputs": [],
   "source": [
    "# First we need to create a DataFrame for calculate the number of \n",
    "df_ans_rate = df_tb1[['dim calendar.date.1', 'answered calls', 'offered calls']].\\\n",
    "    groupby(by='dim calendar.date.1').\\\n",
    "    sum().reset_index()"
   ]
  },
  {
   "cell_type": "code",
   "execution_count": null,
   "metadata": {},
   "outputs": [],
   "source": [
    "df_ans_rate['answer rate'] = df_ans_rate.\\\n",
    "    apply(lambda x: x['answered calls']*100/x['offered calls'] if x['offered calls'] else 0 , axis=1)"
   ]
  },
  {
   "cell_type": "code",
   "execution_count": null,
   "metadata": {},
   "outputs": [],
   "source": [
    "df_ans_rate"
   ]
  },
  {
   "cell_type": "code",
   "execution_count": null,
   "metadata": {},
   "outputs": [],
   "source": [
    "fig = px.line(df_ans_rate, x ='dim calendar.date.1', y='answer rate')\n",
    "fig.show()"
   ]
  },
  {
   "cell_type": "markdown",
   "metadata": {},
   "source": [
    "                        *For Github Visualization, because the plot is dynamic*\n",
    "![image](../img/02_ANSWER_RATE.png)"
   ]
  },
  {
   "cell_type": "code",
   "execution_count": null,
   "metadata": {},
   "outputs": [],
   "source": []
  },
  {
   "cell_type": "code",
   "execution_count": null,
   "metadata": {},
   "outputs": [],
   "source": [
    "1.6.2.1 METRICS ANALYSIS -  CALLS"
   ]
  },
  {
   "cell_type": "code",
   "execution_count": null,
   "metadata": {},
   "outputs": [],
   "source": [
    "df_call_status = df_tb2[['dim calendar.date.1',\n",
    "                            'calls abandoned', 'calls answered','calls conferenced', \n",
    "                            'calls return to q due to timeout','calls transferred', 'type']].\\\n",
    "    groupby(by=['dim calendar.date.1','type']).\\\n",
    "    sum().reset_index()"
   ]
  },
  {
   "cell_type": "code",
   "execution_count": null,
   "metadata": {},
   "outputs": [],
   "source": []
  },
  {
   "cell_type": "markdown",
   "metadata": {},
   "source": [
    "### 2.0.2 *FACT HAGENT* Sheet"
   ]
  },
  {
   "cell_type": "markdown",
   "metadata": {},
   "source": [
    "#### Metrics Analysis - CALLS\n",
    "        *Abandoned / Answered/ Confereced/ Transferred*"
   ]
  },
  {
   "cell_type": "code",
   "execution_count": null,
   "metadata": {},
   "outputs": [],
   "source": [
    "df_call_status = df1_tb2[['dim calendar.date.1',\n",
    "                            'calls abandoned', 'calls answered','calls conferenced', \n",
    "                            'calls return to q due to timeout','calls transferred', 'type']].\\\n",
    "    groupby(by=['dim calendar.date.1','type']).\\\n",
    "    sum().reset_index()"
   ]
  },
  {
   "cell_type": "code",
   "execution_count": null,
   "metadata": {},
   "outputs": [],
   "source": [
    "# Let's plot this and see how it shows up \n",
    "\n",
    "fig1 = px.line(df_call_status, x='dim calendar.date.1', y=['calls abandoned', 'calls answered', \n",
    "                                                         'calls conferenced', 'calls return to q due to timeout',\n",
    "                                                         'calls transferred'], color='type')\n",
    "fig1.show()"
   ]
  },
  {
   "cell_type": "markdown",
   "metadata": {},
   "source": [
    "            *For Github Visualization, because the plot is dynamic*\n",
    "![image](../img/03_CALL_ANALYSIS.png)"
   ]
  },
  {
   "cell_type": "code",
   "execution_count": null,
   "metadata": {},
   "outputs": [],
   "source": []
  },
  {
   "cell_type": "markdown",
   "metadata": {},
   "source": [
    "#### Metrics Anaysis - SLA "
   ]
  },
  {
   "cell_type": "code",
   "execution_count": null,
   "metadata": {},
   "outputs": [],
   "source": [
    "df_tb4['date'] = pd.to_datetime(df_tb4['date'], format=\"%Y-%m-%d\")\n",
    "\n",
    "# For this one we can use just 2 columns for get insights\n",
    "cols=['date','time since arrived to close']\n",
    "\n",
    "# At first I thought an interesting approuch would be to turn seconds into days. \n",
    "#This is because, through empirical experience and research, the SLA always has a value around\n",
    "#about 24 hours.\n",
    "\n",
    "df_tb4_s = df_tb4[cols]\n",
    "\n",
    "df_tb4['seconds_in_a_day'] = 24*60*60\n",
    "\n",
    "# The SLA we have in the table is related to the agents, at this moment my intention is to create an SLA satisfaction index, \n",
    "#using as a reference the 24 hours to solve the problem, that is, compliance with the\n",
    "#Service Level Agreement.\n",
    "df_tb4['sla_lower_24h'] = df_tb4.apply(lambda df: 1 if df['time since arrived to close'] < df['seconds_in_a_day'] else 0, axis=1)\n",
    "\n",
    "#Total Tickets \n",
    "df_tb4['total_tickets'] = df_tb4.groupby(['date'])['date'].transform('count')\n",
    "\n",
    "\n",
    "df_tb4[df_tb4['sla_lower_24h'] ==1]"
   ]
  },
  {
   "cell_type": "code",
   "execution_count": null,
   "metadata": {},
   "outputs": [],
   "source": []
  },
  {
   "cell_type": "code",
   "execution_count": null,
   "metadata": {},
   "outputs": [],
   "source": []
  },
  {
   "cell_type": "code",
   "execution_count": null,
   "metadata": {},
   "outputs": [],
   "source": []
  },
  {
   "cell_type": "code",
   "execution_count": null,
   "metadata": {},
   "outputs": [],
   "source": []
  }
 ],
 "metadata": {
  "hide_input": false,
  "kernelspec": {
   "display_name": "Python 3",
   "language": "python",
   "name": "python3"
  },
  "language_info": {
   "codemirror_mode": {
    "name": "ipython",
    "version": 3
   },
   "file_extension": ".py",
   "mimetype": "text/x-python",
   "name": "python",
   "nbconvert_exporter": "python",
   "pygments_lexer": "ipython3",
   "version": "3.7.6"
  }
 },
 "nbformat": 4,
 "nbformat_minor": 4
}
