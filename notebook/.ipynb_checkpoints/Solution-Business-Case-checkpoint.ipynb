{
 "cells": [
  {
   "cell_type": "markdown",
   "metadata": {
    "ExecuteTime": {
     "end_time": "2020-09-25T19:15:41.524767Z",
     "start_time": "2020-09-25T19:15:41.518771Z"
    }
   },
   "source": [
    "\n"
   ]
  },
  {
   "cell_type": "markdown",
   "metadata": {},
   "source": [
    "# 0.0 Imports "
   ]
  },
  {
   "cell_type": "code",
   "execution_count": 1,
   "metadata": {
    "ExecuteTime": {
     "end_time": "2020-09-26T03:19:44.045472Z",
     "start_time": "2020-09-26T03:19:38.652599Z"
    }
   },
   "outputs": [],
   "source": [
    "# Manipulation\n",
    "import pandas as pd\n",
    "import numpy as np \n",
    "import csv\n",
    "import inflection\n",
    "import datetime\n",
    "\n",
    "#Read dataset\n",
    "from pyxlsb import open_workbook as open_xlsb\n",
    "from openpyxl import Workbook\n",
    "import xlwt\n",
    "import xlrd\n",
    "import xlwt\n",
    "\n",
    "#Visualization\n",
    "import seaborn as sns\n",
    "import matplotlib.pyplot as plt\n",
    "\n",
    "#Possible Displays\n",
    "from IPython.display import Image\n",
    "from IPython.core.display import HTML\n",
    "\n",
    "# In case of ML (See in the process)\n",
    "import random\n",
    "import warnings\n",
    "import requests\n"
   ]
  },
  {
   "cell_type": "markdown",
   "metadata": {},
   "source": [
    "## 0.1 Helper Functions\n",
    "In this section, we define some functions that will help us along the project"
   ]
  },
  {
   "cell_type": "markdown",
   "metadata": {},
   "source": []
  },
  {
   "cell_type": "code",
   "execution_count": 2,
   "metadata": {
    "ExecuteTime": {
     "end_time": "2020-09-26T03:19:53.918379Z",
     "start_time": "2020-09-26T03:19:53.873412Z"
    }
   },
   "outputs": [],
   "source": [
    "# sets seaborn style\n",
    "sns.set_style(\"darkgrid\")\n",
    "sns.set_palette(\"muted\")\n",
    "\n",
    "# sets matplolit inline\n",
    "%matplotlib inline\n",
    "\n",
    "# sets to display unlimited number of columns\n",
    "pd.options.display.max_columns = None\n",
    "\n",
    "# setting the title and axis labels\n",
    "def set_plots_features(ax, title, xlabel, ylabel):\n",
    "    ax.set_title(title, fontsize=18)\n",
    "    ax.set_xlabel(xlabel, fontsize=14)\n",
    "    ax.set_ylabel(ylabel, fontsize=14)\n",
    "    \n",
    "# ignores warnings\n",
    "warnings.filterwarnings('ignore')\n",
    "\n",
    "# Descriptive Statistics\n",
    "\n",
    "def get_descriptive_statistics(data_set):\n",
    "    # central tendency: mean, median\n",
    "    mean = pd.DataFrame(data_set.apply(np.mean)).T\n",
    "    median = pd.DataFrame(data_set.apply(np.median)).T\n",
    "    \n",
    "    # distribution: std, min, max, range, skew, kurtosis\n",
    "    std = pd.DataFrame(data_set.apply(np.std)).T\n",
    "    min_value = pd.DataFrame(data_set.apply(min)).T\n",
    "    max_value = pd.DataFrame(data_set.apply(max)).T\n",
    "    range_value = pd.DataFrame(data_set.apply(lambda x: x.max() - x.min())).T\n",
    "    skewness = pd.DataFrame(data_set.apply(lambda x: x.skew())).T\n",
    "    kurtosis = pd.DataFrame(data_set.apply(lambda x: x.kurtosis())).T\n",
    "\n",
    "    # concatenates\n",
    "    summary_stats = pd.concat(\n",
    "            [min_value, max_value, range_value, mean, median, std, skewness, kurtosis]).T.reset_index()\n",
    "    summary_stats.columns = ['attributes', 'min', 'max',\n",
    "                                 'range', 'mean', 'median', 'std', 'skewness', 'kurtosis']\n",
    "    return summary_stats"
   ]
  },
  {
   "cell_type": "markdown",
   "metadata": {},
   "source": [
    "## 0.2  Business Problem"
   ]
  },
  {
   "cell_type": "markdown",
   "metadata": {
    "heading_collapsed": true
   },
   "source": [
    "### 0.2.1 -- Business Case – Guidelines\n",
    "\n",
    "    You are overseeing Data Analytics for one contact center project. You arrive to the office one day, and the contact center manager calls you about near past results. The client believes CSAT is one of the most important metrics (customers are everything for them) and has been complaining as we were not able, in 2018, to keep a good CSAT – in fact CSAT has been decreasing finding the minimum in December – and wanted to know what happened and which actions we will take for the future. \n",
    "    \n",
    "      As a Data Analytics expert, your job is to figure out why we couldn’t achieve good results (previously it has been poorly diagnosed as any action plan worked) and to propose an action plan that can prevent such results from happening again. \n",
    "      \n",
    " ![image.png](../img/01_csat.png)\n",
    " \n",
    "      As a guideline, here follows the main metrics, targets and formulas:\n",
    "      \n",
    "#### • Answer rate - 92% - #AnsweredCalls/ OfferedCalls\n",
    "#### • CSAT - 85% - #Surveys8to10/#Surveys\n",
    "#### • DSAT - 8% - #Surveys1to3/#Surveys\n",
    "#### • SLA email - 85% - #AnsweredLess24H/ #Answered \n",
    "      \n",
    "      Additionally, propose a report template to ensure visibility over key metrics of the project to support stakeholders’ future control & decision."
   ]
  },
  {
   "cell_type": "markdown",
   "metadata": {},
   "source": [
    "## 0.3 Understanding the Challenge"
   ]
  },
  {
   "cell_type": "markdown",
   "metadata": {},
   "source": [
    "### 0.3.1 -- Why ? \n",
    "   #### -- What is the type of business of Teleperformance? - \n",
    "     Outsourcing and Technology. They mission is to provide customer experience excellency at each interaction opportunity\n",
    "     \n",
    "   ![image.png](../img/02_htech-htouch.png)\n",
    "   \n",
    "   #### -- Whats the focuses of the company ? \n",
    "     The company has three well-defined focuses: customer, innovation and efficiency. \n",
    "   #### -- Offer ? (Solutions for Customers)\n",
    "           -- E-mail \n",
    "           -- Calls \n",
    "           \n",
    "   #### -- Enviroment - Call Center\n",
    "   #### -- Target - Increase Service Level Agreement (SLA)\n",
    "   #### -- Goals - Find deviations in the procedures used to resolve customer issues.\n",
    "           1) Deliverys \n",
    "           a) Exploratory Data Analysis \n",
    "           b) Insights for a better customer experience\n",
    "           c) Power BI Dashboard\n",
    "           d) ML Algorithm for predict the next calls occurrences in the next month.\n",
    "  \n",
    "    "
   ]
  },
  {
   "cell_type": "markdown",
   "metadata": {},
   "source": [
    "## 0.4 Understanding the Dataset\n",
    "This part of the problem is essential!\n",
    "Try to understand the nature of the columns (What they mean) and then establish the granularity, and know what is essential or not, based on the metrics previously established in 0.2\n",
    "\n",
    "                                    The first step is UNDERSTAND some important ACRONYMS\n",
    "                                    but the most part of the columns are auto-explained.\n",
    "                                    In order to understand the importance of each one and the values\n",
    "                                "
   ]
  },
  {
   "cell_type": "markdown",
   "metadata": {},
   "source": [
    "\n",
    "### TABS\n",
    "\n",
    "#### Sheet 1 - FACT HSPLIT\n",
    "    -- Columns \n",
    "          -> DIM CALENDAR DATE - \n",
    "          -> DIM TIME HOUR\n",
    "          -> DIM TIME MINUTES\n",
    "          -> DIM TIME. TIME ID\n",
    "          -> AfterCall Time - HSPLIT\n",
    "###### a)  After-call work refers to the tasks that an outsourced call center representative completes after they have finished interacting with a customer.\n",
    "###### b) Average after-call work time is measured by adding the total time spent by a specific representative (or team) over a set period and dividing the sum by the total number of calls over the same timeframe.\n",
    "          -> AnswerTime - HSPLIT    \n",
    "###### a) ASA - call center metric for the average amount of time it takes for calls to be answered in a call center during a specific time period.\n",
    "###### b) Average Speed of Answer = Total Waiting Time for Answered Calls/Total Number of Answered Calls\n",
    "          -> CALLS ABANDONED - HSPLIT - AUTO EXPLAINED\n",
    "          -> Answered Calls  AUTO EXPLAINED\n",
    "          -> Offered Calls - AUTO EXPLAINED\n",
    "          -> Handle Time - HSPLIT   -AHT \n",
    "###### a) AHT is the average time it takes to handle a call or transaction from start to finish – from call initiation, to hold time, to talk time, and all the way through to any related tasks an agent must perform post-phone call to resolve that call.\n",
    "###### b) It's not a sucess metric when it's analyzed alone because rushing agents to close tickets, rather than resolve issues, would hasten your AHT but would not work for CSAT for example.\n",
    "###### c) Formula -  AHT, add your total talk time + total hold time + total after-call tasks, and then divide by the number of total calls.\n",
    "          -> HoldCall - HSSPLIT \n",
    "###### a) Hold time is the average time it takes for an operator to answer a call. It's the amount of time a customer waits in the queue before getting a response from an agent.          \n",
    "          -> I Aux time - HSPLIT -\n",
    "###### a)Auxiliary time is the time an agent spends in unavailable status in the call center system, or during which the agent cannot accept new calls because they are on a break.\n",
    "###### b) Aux codes are used to keep track of call center agent time that has been voluntarily used to not accept calls. More specifically, it's used to manage non-call activities of agents.\n",
    "          -> IDLE TIME - HSPLIT\n",
    "###### a) Idle time is paid time that an employee, or machine, is unproductive that is a result of factors that can either be controlled or uncontrolled by management. ... Idle time may have serious implications for employers\n",
    "###### b)Abnormal idle time arises due to power failure, breakdown of machinery, non supply of raw material in time, delay in previous process, strikes and accidents etc. \n",
    "###### c) It's cost account, the cost of such idel time is included as either direct labor or manufacturing overhead and is part of the total product cost\n",
    "          -> MAX DELAY - HSPLIT\n",
    "###### Maximum time a customer in a queue waits before being connected to an operator or hanging up.\n",
    "          -> STAFF TIME - HSPLIT \n",
    "###### a) It's simply the number of FORECAST CALLS for an hour multiplied by the average handle time of a call. The average handle time (AHT) is made up of two components: actual conversation or talk time plus any after call wrap-up time associated with the call.\n",
    "          -> TALK TIME - HSPLIT\n",
    "###### Average Talk Time (ATT) is, quite simply, the amount of time an agent spends talking to customer\n",
    "          -> TIME \n",
    "          -> Type \n",
    "          -> SKill ID \n",
    "\n",
    "#### Sheet 2 - FACT HAGENT\n",
    "\n",
    "          -> Short Login \n",
    "          -> DIM CALENDAR.DATE.1\t\n",
    "          -> CALLS ABANDONED\t\n",
    "          -> CALLS ANSWERED - AUTO EXPLAINED\t\n",
    "          -> CALLS CONFERENCED \n",
    "##### Sheet 3 - A conference call is a telephone call in which someone talks to several people at the same time. The conference call may be designed to allow the called party to participate during the call or set up so that the called party merely listens into the call and cannot speak.\n",
    "            1)Dial the first call, and wait for the recipient to pick up. ...\n",
    "            2)Tap the Add Call button.\n",
    "            3)Dial the second number.\n",
    "            4)Touch the Merge or Merge Call button.\n",
    "            5) Repeat steps 2 and 3 to add more callers to the conference.\n",
    "            \n",
    "            \n",
    "          -> CALLS RETURN TO Q DUE TO TIMEOUT\t- Auto Explained\n",
    "          -> CALLS TRANSFERRED\t- Auto explained\n",
    "          -> CONTACT HOLDTIME\t- apply Definition above\n",
    "          -> CONTACT TALK TIME\t-apply Definition above\n",
    "          -> IDLE TIME\t- apply Definition above\n",
    "          -> LOGIN DURATION\t - Mean time for the agent login\n",
    "          -> POST CALL PROCESSING TIME\t\n",
    "##### a) After-call work includes all tasks which require completion once your contact center’s agents’ phone conversations with customers are finished.\n",
    "          -> RING TIME - Auto Explained\n",
    "          -> SCHEDULED TIME\n",
    "##### a) In simple words, call center agent scheduling includes any and every task to manage agents and their varied chores in such a way that the call center can reach its optimum performance\n",
    "          -> TOTAL STAFFED TIME\n",
    "###### a) It's simply the number of forecast calls for an hour multiplied by the average handle time of a call. The average handle time (AHT) is made up of two components: actual conversation or talk time plus any after call wrap-up time associated with the call.\n",
    "          -> WAIT TIME\t\n",
    "          -> WORKED TIME\t\n",
    "          -> Type\t\n",
    "          -> Skill ID\t\n",
    "          -> LOB\n",
    "###### Line of business (LOB) is a general term which refers to a product or a set of related products that serve a particular customer transaction or business need.\n",
    "\n",
    "#### Sheet 3 - FACT SERVREQ\n",
    "          -> DIM AGENT.LOGIN\t\n",
    "          -> DIM CALENDAR.DATE.1\t\n",
    "          -> Resolution Name\t\n",
    "          -> DIM TIME.HOUR\t\n",
    "          -> DIM TIME.MINUTES\t\n",
    "          -> DIM TIME.TIME ID\t\n",
    "          -> Incidents Created\t\n",
    "          -> Incidents Updated\t\n",
    "          -> Time\t\n",
    "          -> Tier - In the next steps we gonna perform queries for understand these tiers\n",
    "##### Tier 1: This is the organization's “first line of defense,”. ... Tier 2: When a customer issue is beyond the skill of the Tier 1 staff to resolve, the issue escalates to Tier 2. Tier 2 staff have the knowledge base and skills to handle more complex customer issues and will often use remote control tools\n",
    "\n",
    "#### Sheet 4 - FACT EMAIL\n",
    "\n",
    "          -> Agent Login\t\n",
    "          -> Closed Reason\t\n",
    "          -> Avg. Time Allocated\t- AHT \n",
    "##### a) Average handle time (AHT) is a metric that's commonly used as a key performance indicator (KPI) for call centers. It represents the average length of contact for a customer on a cal\n",
    "          -> AVG_TIME_ARRIVE_TO_CLOSE\t\n",
    "          -> SLA\t\n",
    "##### a) A service-level agreement (SLA) defines the level of service you expect from a vendor, laying out the metrics by which service is measured, as well as remedies or penalties should agreed-on service levels not be achieved.\n",
    "          -> COUNT ARRIVAL\t\n",
    "          -> COUNT CLOSED\t\n",
    "          -> COUNT FIRST OPENED\t\n",
    "          -> COUNT OPENED\t\n",
    "          -> TIME SINCE ARRIVED TO CLOSE\t\n",
    "          -> Date\t\n",
    "          -> Emails within SLA\n",
    "##### a) A service level agreement (SLA) is a part of a contract where the level of service is formally defined. ... It is common to append an SLA to your contract with your email service provider, regardless of whether it's a hosted service or an in-house solution\n",
    "\n",
    "#### Sheet 5 - CSAT \n",
    "\n",
    "    CSAT is short for Customer Satisfaction, which is a commonly-used key performance indicator used to track how satisfied customers are with your organization’s products and/or services\n",
    "    CSAT is measured by one or more variations of this question that usually appears at the end of a customer feedback survey:\n",
    "\n",
    "    “How would you rate your overall satisfaction with the [goods/service] you received?”\n",
    "\n",
    "    Respondents use the following 1 to 5 scale:\n",
    "1. Very unsatisfied\n",
    "2. Unsatisfied\n",
    "3. Neutral\n",
    "4. Satisfied\n",
    "5. Very satisfied\n",
    "\n",
    "Calculating CSAT\n",
    "To do this, only responses of 8 (satisfied) to 10 (very satisfied) are included in the calculation, as it has been shown that using the two highest values on feedback surveys is the most accurate predictor of customer retention.\n",
    "\n",
    "(Number of satisfied customers (8 to 10) / Number of survey responses) x 100 = % of satisfied customers"
   ]
  },
  {
   "cell_type": "markdown",
   "metadata": {},
   "source": [
    "## 0.5 Loading Data\n",
    "We have an Xlsb file with 5 tabs to be analyzed.\n",
    "The argument sheet_name make us possible to extract each tab.\n",
    "Then we gonna save all the tabs in individual csv files for be able to manipulate one by one, after this process we can select "
   ]
  },
  {
   "cell_type": "code",
   "execution_count": 3,
   "metadata": {
    "ExecuteTime": {
     "end_time": "2020-09-26T03:29:24.469537Z",
     "start_time": "2020-09-26T03:20:02.398925Z"
    }
   },
   "outputs": [],
   "source": [
    "df_raw = pd.read_excel('../data/Case_Study_Data.xlsb', engine='pyxlsb')\n",
    "#There some other ways\n",
    "\n",
    "# Extract Tab 1 - FACT HSPLIT\n",
    "df_raw_tab1 = pd.read_excel('../data/Case_Study_Data.xlsb', engine='pyxlsb', sheet_name='FACT HSPLIT')\n",
    "#Extract Tab 2 - FACT HAGENT\n",
    "df_raw_tab2 = pd.read_excel('../data/Case_Study_Data.xlsb', engine='pyxlsb', sheet_name='FACT HAGENT')\n",
    "# Extract Tab 3 - FACT SERVREQ\n",
    "df_raw_tab3 = pd.read_excel('../data/Case_Study_Data.xlsb', engine='pyxlsb', sheet_name='FACT SERVREQ')\n",
    "# Extract Tab 4 FACT EMAIl\n",
    "df_raw_tab4 = pd.read_excel('../data/Case_Study_Data.xlsb', engine='pyxlsb', sheet_name='FACT EMAIL')\n",
    "# Extract Tab 5 - CSAT\n",
    "df_raw_tab5 = pd.read_excel('../data/Case_Study_Data.xlsb', engine='pyxlsb', sheet_name='CSAT')    "
   ]
  },
  {
   "cell_type": "code",
   "execution_count": 7,
   "metadata": {
    "ExecuteTime": {
     "end_time": "2020-09-26T03:46:51.581872Z",
     "start_time": "2020-09-26T03:41:30.136008Z"
    }
   },
   "outputs": [
    {
     "ename": "KeyError",
     "evalue": "'FACT HSPLIT'",
     "output_type": "error",
     "traceback": [
      "\u001b[1;31m---------------------------------------------------------------------------\u001b[0m",
      "\u001b[1;31mKeyError\u001b[0m                                  Traceback (most recent call last)",
      "\u001b[1;32m~\\anaconda3\\lib\\site-packages\\pandas\\core\\indexes\\base.py\u001b[0m in \u001b[0;36mget_loc\u001b[1;34m(self, key, method, tolerance)\u001b[0m\n\u001b[0;32m   2888\u001b[0m             \u001b[1;32mtry\u001b[0m\u001b[1;33m:\u001b[0m\u001b[1;33m\u001b[0m\u001b[1;33m\u001b[0m\u001b[0m\n\u001b[1;32m-> 2889\u001b[1;33m                 \u001b[1;32mreturn\u001b[0m \u001b[0mself\u001b[0m\u001b[1;33m.\u001b[0m\u001b[0m_engine\u001b[0m\u001b[1;33m.\u001b[0m\u001b[0mget_loc\u001b[0m\u001b[1;33m(\u001b[0m\u001b[0mcasted_key\u001b[0m\u001b[1;33m)\u001b[0m\u001b[1;33m\u001b[0m\u001b[1;33m\u001b[0m\u001b[0m\n\u001b[0m\u001b[0;32m   2890\u001b[0m             \u001b[1;32mexcept\u001b[0m \u001b[0mKeyError\u001b[0m \u001b[1;32mas\u001b[0m \u001b[0merr\u001b[0m\u001b[1;33m:\u001b[0m\u001b[1;33m\u001b[0m\u001b[1;33m\u001b[0m\u001b[0m\n",
      "\u001b[1;32mpandas\\_libs\\index.pyx\u001b[0m in \u001b[0;36mpandas._libs.index.IndexEngine.get_loc\u001b[1;34m()\u001b[0m\n",
      "\u001b[1;32mpandas\\_libs\\index.pyx\u001b[0m in \u001b[0;36mpandas._libs.index.IndexEngine.get_loc\u001b[1;34m()\u001b[0m\n",
      "\u001b[1;32mpandas\\_libs\\hashtable_class_helper.pxi\u001b[0m in \u001b[0;36mpandas._libs.hashtable.PyObjectHashTable.get_item\u001b[1;34m()\u001b[0m\n",
      "\u001b[1;32mpandas\\_libs\\hashtable_class_helper.pxi\u001b[0m in \u001b[0;36mpandas._libs.hashtable.PyObjectHashTable.get_item\u001b[1;34m()\u001b[0m\n",
      "\u001b[1;31mKeyError\u001b[0m: 'FACT HSPLIT'",
      "\nThe above exception was the direct cause of the following exception:\n",
      "\u001b[1;31mKeyError\u001b[0m                                  Traceback (most recent call last)",
      "\u001b[1;32m<ipython-input-7-9daaf2b08369>\u001b[0m in \u001b[0;36m<module>\u001b[1;34m\u001b[0m\n\u001b[0;32m      4\u001b[0m \u001b[1;33m\u001b[0m\u001b[0m\n\u001b[0;32m      5\u001b[0m \u001b[1;31m# Extract Tab 1 - FACT HSPLIT\u001b[0m\u001b[1;33m\u001b[0m\u001b[1;33m\u001b[0m\u001b[1;33m\u001b[0m\u001b[0m\n\u001b[1;32m----> 6\u001b[1;33m \u001b[0mdf_raw_tab1\u001b[0m\u001b[1;33m[\u001b[0m\u001b[1;34m'FACT HSPLIT'\u001b[0m\u001b[1;33m]\u001b[0m\u001b[1;33m\u001b[0m\u001b[1;33m\u001b[0m\u001b[0m\n\u001b[0m",
      "\u001b[1;32m~\\anaconda3\\lib\\site-packages\\pandas\\core\\frame.py\u001b[0m in \u001b[0;36m__getitem__\u001b[1;34m(self, key)\u001b[0m\n\u001b[0;32m   2900\u001b[0m             \u001b[1;32mif\u001b[0m \u001b[0mself\u001b[0m\u001b[1;33m.\u001b[0m\u001b[0mcolumns\u001b[0m\u001b[1;33m.\u001b[0m\u001b[0mnlevels\u001b[0m \u001b[1;33m>\u001b[0m \u001b[1;36m1\u001b[0m\u001b[1;33m:\u001b[0m\u001b[1;33m\u001b[0m\u001b[1;33m\u001b[0m\u001b[0m\n\u001b[0;32m   2901\u001b[0m                 \u001b[1;32mreturn\u001b[0m \u001b[0mself\u001b[0m\u001b[1;33m.\u001b[0m\u001b[0m_getitem_multilevel\u001b[0m\u001b[1;33m(\u001b[0m\u001b[0mkey\u001b[0m\u001b[1;33m)\u001b[0m\u001b[1;33m\u001b[0m\u001b[1;33m\u001b[0m\u001b[0m\n\u001b[1;32m-> 2902\u001b[1;33m             \u001b[0mindexer\u001b[0m \u001b[1;33m=\u001b[0m \u001b[0mself\u001b[0m\u001b[1;33m.\u001b[0m\u001b[0mcolumns\u001b[0m\u001b[1;33m.\u001b[0m\u001b[0mget_loc\u001b[0m\u001b[1;33m(\u001b[0m\u001b[0mkey\u001b[0m\u001b[1;33m)\u001b[0m\u001b[1;33m\u001b[0m\u001b[1;33m\u001b[0m\u001b[0m\n\u001b[0m\u001b[0;32m   2903\u001b[0m             \u001b[1;32mif\u001b[0m \u001b[0mis_integer\u001b[0m\u001b[1;33m(\u001b[0m\u001b[0mindexer\u001b[0m\u001b[1;33m)\u001b[0m\u001b[1;33m:\u001b[0m\u001b[1;33m\u001b[0m\u001b[1;33m\u001b[0m\u001b[0m\n\u001b[0;32m   2904\u001b[0m                 \u001b[0mindexer\u001b[0m \u001b[1;33m=\u001b[0m \u001b[1;33m[\u001b[0m\u001b[0mindexer\u001b[0m\u001b[1;33m]\u001b[0m\u001b[1;33m\u001b[0m\u001b[1;33m\u001b[0m\u001b[0m\n",
      "\u001b[1;32m~\\anaconda3\\lib\\site-packages\\pandas\\core\\indexes\\base.py\u001b[0m in \u001b[0;36mget_loc\u001b[1;34m(self, key, method, tolerance)\u001b[0m\n\u001b[0;32m   2889\u001b[0m                 \u001b[1;32mreturn\u001b[0m \u001b[0mself\u001b[0m\u001b[1;33m.\u001b[0m\u001b[0m_engine\u001b[0m\u001b[1;33m.\u001b[0m\u001b[0mget_loc\u001b[0m\u001b[1;33m(\u001b[0m\u001b[0mcasted_key\u001b[0m\u001b[1;33m)\u001b[0m\u001b[1;33m\u001b[0m\u001b[1;33m\u001b[0m\u001b[0m\n\u001b[0;32m   2890\u001b[0m             \u001b[1;32mexcept\u001b[0m \u001b[0mKeyError\u001b[0m \u001b[1;32mas\u001b[0m \u001b[0merr\u001b[0m\u001b[1;33m:\u001b[0m\u001b[1;33m\u001b[0m\u001b[1;33m\u001b[0m\u001b[0m\n\u001b[1;32m-> 2891\u001b[1;33m                 \u001b[1;32mraise\u001b[0m \u001b[0mKeyError\u001b[0m\u001b[1;33m(\u001b[0m\u001b[0mkey\u001b[0m\u001b[1;33m)\u001b[0m \u001b[1;32mfrom\u001b[0m \u001b[0merr\u001b[0m\u001b[1;33m\u001b[0m\u001b[1;33m\u001b[0m\u001b[0m\n\u001b[0m\u001b[0;32m   2892\u001b[0m \u001b[1;33m\u001b[0m\u001b[0m\n\u001b[0;32m   2893\u001b[0m         \u001b[1;32mif\u001b[0m \u001b[0mtolerance\u001b[0m \u001b[1;32mis\u001b[0m \u001b[1;32mnot\u001b[0m \u001b[1;32mNone\u001b[0m\u001b[1;33m:\u001b[0m\u001b[1;33m\u001b[0m\u001b[1;33m\u001b[0m\u001b[0m\n",
      "\u001b[1;31mKeyError\u001b[0m: 'FACT HSPLIT'"
     ]
    }
   ],
   "source": [
    "# TO CSV \n",
    "df_raw_tab1.to_csv('FACT_HSPLIT.csv')"
   ]
  },
  {
   "cell_type": "markdown",
   "metadata": {},
   "source": [
    "### 0.5.1 Dealing with Sheets \n",
    "At this point we already have all the tabs in different CSV's, for consume less memory and work with one DataFrame only!"
   ]
  },
  {
   "cell_type": "code",
   "execution_count": 8,
   "metadata": {
    "ExecuteTime": {
     "end_time": "2020-09-26T04:00:31.402350Z",
     "start_time": "2020-09-26T03:55:51.004914Z"
    }
   },
   "outputs": [],
   "source": [
    "df_r = pd.read_excel('../data/Case_Study_Data.xlsb', engine='pyxlsb',sheet_name=['FACT HSPLIT',\n",
    "                                                                                 'FACT HAGENT', \n",
    "                                                                                 'FACT SERVREQ', \n",
    "                                                                                 'FACT EMAIL', \n",
    "                                                                                 'CSAT'])\n",
    "\n",
    "# FACT HSPLIT\n",
    "df_raw_tb1 = df_r['FACT HSPLIT']\n",
    "#FACT HAGENT\n",
    "df_raw_tb2 = df_r['FACT HAGENT']\n",
    "# FACT SERVREQ\n",
    "df_raw_tb3 = df_r['FACT SERVREQ']\n",
    "# FACT EMAIL\n",
    "df_raw_tb4 = df_r['FACT EMAIL']\n",
    "# CSAT\n",
    "df_raw_tb5 = df_r['CSAT']"
   ]
  },
  {
   "cell_type": "markdown",
   "metadata": {},
   "source": [
    "# 1.0 DATA DESCRIPTION & MANIPULATION\n"
   ]
  },
  {
   "cell_type": "code",
   "execution_count": null,
   "metadata": {},
   "outputs": [],
   "source": [
    "CADA ABA DESSE DATASET \n",
    "SEPARAR AS ABAS EM DATAFRAMES DIFERENTE"
   ]
  },
  {
   "cell_type": "markdown",
   "metadata": {},
   "source": [
    "## 1.1 Renaming Columns"
   ]
  },
  {
   "cell_type": "markdown",
   "metadata": {},
   "source": [
    "## 1.2 Checking Data Dimensions"
   ]
  },
  {
   "cell_type": "markdown",
   "metadata": {},
   "source": [
    "## 1.3 Checking Data Types"
   ]
  },
  {
   "cell_type": "markdown",
   "metadata": {},
   "source": [
    "## 1.4 Checking NaN Values"
   ]
  },
  {
   "cell_type": "markdown",
   "metadata": {},
   "source": [
    "## 1.5 Filling out NaN Values"
   ]
  },
  {
   "cell_type": "markdown",
   "metadata": {},
   "source": [
    "## 1.6 Changing Data Types"
   ]
  },
  {
   "cell_type": "markdown",
   "metadata": {},
   "source": [
    "## 1.7 Descriptive Statistics"
   ]
  },
  {
   "cell_type": "markdown",
   "metadata": {},
   "source": [
    "### 1.7.1 Numerical Attributes"
   ]
  },
  {
   "cell_type": "markdown",
   "metadata": {},
   "source": [
    "### 1.7,2 Categorical Attributes"
   ]
  },
  {
   "cell_type": "markdown",
   "metadata": {},
   "source": [
    "# 2.0 FEATURE ENGINEERING"
   ]
  },
  {
   "cell_type": "markdown",
   "metadata": {},
   "source": [
    "### 2.0.1 Project Checkpoint"
   ]
  },
  {
   "cell_type": "markdown",
   "metadata": {},
   "source": [
    "# 2.1 Hypothesis MindMap "
   ]
  },
  {
   "cell_type": "markdown",
   "metadata": {},
   "source": [
    "## 2.2 Creating Hypothesis"
   ]
  },
  {
   "cell_type": "markdown",
   "metadata": {},
   "source": [
    "### New Features"
   ]
  },
  {
   "cell_type": "code",
   "execution_count": null,
   "metadata": {},
   "outputs": [],
   "source": []
  }
 ],
 "metadata": {
  "kernelspec": {
   "display_name": "Python 3",
   "language": "python",
   "name": "python3"
  },
  "language_info": {
   "codemirror_mode": {
    "name": "ipython",
    "version": 3
   },
   "file_extension": ".py",
   "mimetype": "text/x-python",
   "name": "python",
   "nbconvert_exporter": "python",
   "pygments_lexer": "ipython3",
   "version": "3.7.6"
  }
 },
 "nbformat": 4,
 "nbformat_minor": 4
}
