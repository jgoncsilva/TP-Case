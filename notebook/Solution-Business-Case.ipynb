{
 "cells": [
  {
   "cell_type": "markdown",
   "metadata": {
    "ExecuteTime": {
     "end_time": "2020-09-25T19:15:41.524767Z",
     "start_time": "2020-09-25T19:15:41.518771Z"
    }
   },
   "source": [
    "\n"
   ]
  },
  {
   "cell_type": "markdown",
   "metadata": {},
   "source": [
    "# 0.0 Imports "
   ]
  },
  {
   "cell_type": "code",
   "execution_count": 9,
   "metadata": {
    "ExecuteTime": {
     "end_time": "2020-09-26T08:39:10.951353Z",
     "start_time": "2020-09-26T08:39:10.940360Z"
    }
   },
   "outputs": [],
   "source": [
    "# Manipulation\n",
    "import pandas as pd\n",
    "import numpy as np \n",
    "import csv\n",
    "import inflection\n",
    "import datetime\n",
    "import pyxlsb\n",
    "\n",
    "#Visualization\n",
    "import seaborn as sns\n",
    "import matplotlib.pyplot as plt\n",
    "\n",
    "#Possible Displays\n",
    "from IPython.display import Image\n",
    "from IPython.core.display import HTML\n",
    "\n",
    "# In case of ML (See in the process)\n",
    "import random\n",
    "import warnings\n",
    "import requests\n"
   ]
  },
  {
   "cell_type": "markdown",
   "metadata": {},
   "source": [
    "## 0.1 Helper Functions\n",
    "In this section, we define some functions that will help us along the project"
   ]
  },
  {
   "cell_type": "markdown",
   "metadata": {},
   "source": []
  },
  {
   "cell_type": "code",
   "execution_count": 10,
   "metadata": {
    "ExecuteTime": {
     "end_time": "2020-09-26T08:39:16.081929Z",
     "start_time": "2020-09-26T08:39:16.006973Z"
    }
   },
   "outputs": [],
   "source": [
    "# sets seaborn style\n",
    "sns.set_style(\"darkgrid\")\n",
    "sns.set_palette(\"muted\")\n",
    "\n",
    "# sets matplolit inline\n",
    "%matplotlib inline\n",
    "\n",
    "# sets to display unlimited number of columns\n",
    "pd.options.display.max_columns = None\n",
    "\n",
    "# setting the title and axis labels\n",
    "def set_plots_features(ax, title, xlabel, ylabel):\n",
    "    ax.set_title(title, fontsize=18)\n",
    "    ax.set_xlabel(xlabel, fontsize=14)\n",
    "    ax.set_ylabel(ylabel, fontsize=14)\n",
    "    \n",
    "# ignores warnings\n",
    "warnings.filterwarnings('ignore')\n",
    "\n",
    "# Descriptive Statistics\n",
    "\n",
    "def get_descriptive_statistics(data_set):\n",
    "    # central tendency: mean, median\n",
    "    mean = pd.DataFrame(data_set.apply(np.mean)).T\n",
    "    median = pd.DataFrame(data_set.apply(np.median)).T\n",
    "    \n",
    "    # distribution: std, min, max, range, skew, kurtosis\n",
    "    std = pd.DataFrame(data_set.apply(np.std)).T\n",
    "    min_value = pd.DataFrame(data_set.apply(min)).T\n",
    "    max_value = pd.DataFrame(data_set.apply(max)).T\n",
    "    range_value = pd.DataFrame(data_set.apply(lambda x: x.max() - x.min())).T\n",
    "    skewness = pd.DataFrame(data_set.apply(lambda x: x.skew())).T\n",
    "    kurtosis = pd.DataFrame(data_set.apply(lambda x: x.kurtosis())).T\n",
    "\n",
    "    # concatenates\n",
    "    summary_stats = pd.concat(\n",
    "            [min_value, max_value, range_value, mean, median, std, skewness, kurtosis]).T.reset_index()\n",
    "    summary_stats.columns = ['attributes', 'min', 'max',\n",
    "                                 'range', 'mean', 'median', 'std', 'skewness', 'kurtosis']\n",
    "    return summary_stats"
   ]
  },
  {
   "cell_type": "markdown",
   "metadata": {},
   "source": [
    "## 0.2  Business Problem"
   ]
  },
  {
   "cell_type": "markdown",
   "metadata": {
    "heading_collapsed": true
   },
   "source": [
    "### 0.2.1 -- Business Case – Guidelines\n",
    "\n",
    "    You are overseeing Data Analytics for one contact center project. You arrive to the office one day, and the contact center manager calls you about near past results. The client believes CSAT is one of the most important metrics (customers are everything for them) and has been complaining as we were not able, in 2018, to keep a good CSAT – in fact CSAT has been decreasing finding the minimum in December – and wanted to know what happened and which actions we will take for the future. \n",
    "    \n",
    "      As a Data Analytics expert, your job is to figure out why we couldn’t achieve good results (previously it has been poorly diagnosed as any action plan worked) and to propose an action plan that can prevent such results from happening again. \n",
    "      \n",
    " ![image.png](../img/01_csat.png)\n",
    " \n",
    "      As a guideline, here follows the main metrics, targets and formulas:\n",
    "      \n",
    "#### • Answer rate - 92% - #AnsweredCalls/ OfferedCalls\n",
    "#### • CSAT - 85% - #Surveys8to10/#Surveys\n",
    "#### • DSAT - 8% - #Surveys1to3/#Surveys\n",
    "#### • SLA email - 85% - #AnsweredLess24H/ #Answered \n",
    "      \n",
    "      Additionally, propose a report template to ensure visibility over key metrics of the project to support stakeholders’ future control & decision."
   ]
  },
  {
   "cell_type": "markdown",
   "metadata": {},
   "source": [
    "## 0.3 Understanding the Challenge"
   ]
  },
  {
   "cell_type": "markdown",
   "metadata": {},
   "source": [
    "### 0.3.1 -- Why ? \n",
    "   #### -- What is the type of business of Teleperformance? - \n",
    "     Outsourcing and Technology. They mission is to provide customer experience excellency at each interaction opportunity\n",
    "     \n",
    "   ![image.png](../img/02_htech-htouch.png)\n",
    "   \n",
    "   #### -- Whats the focuses of the company ? \n",
    "     The company has three well-defined focuses: customer, innovation and efficiency. \n",
    "   #### -- Offer ? (Solutions for Customers)\n",
    "           -- E-mail \n",
    "           -- Calls \n",
    "           \n",
    "   #### -- Enviroment - Call Center\n",
    "   #### -- Target - Increase Service Level Agreement (SLA)\n",
    "   #### -- Goals - Find deviations in the procedures used to resolve customer issues.\n",
    "           1) Deliverys \n",
    "           a) Exploratory Data Analysis \n",
    "           b) Insights for a better customer experience\n",
    "           c) Power BI Dashboard\n",
    "           d) ML Algorithm for predict the next calls occurrences in the next month.\n",
    "  \n",
    "    "
   ]
  },
  {
   "cell_type": "markdown",
   "metadata": {},
   "source": [
    "## 0.4 Understanding the Dataset\n",
    "This part of the problem is essential!\n",
    "Try to understand the nature of the columns (What they mean) and then establish the granularity, and know what is essential or not, based on the metrics previously established in 0.2\n",
    "\n",
    "                                    The first step is UNDERSTAND some important ACRONYMS\n",
    "                                    but the most part of the columns are auto-explained.\n",
    "                                    In order to understand the importance of each one and the values\n",
    "                                "
   ]
  },
  {
   "cell_type": "markdown",
   "metadata": {},
   "source": [
    "\n",
    "### TABS\n",
    "\n",
    "#### Sheet 1 - FACT HSPLIT\n",
    "    -- Columns \n",
    "          -> DIM CALENDAR DATE - \n",
    "          -> DIM TIME HOUR\n",
    "          -> DIM TIME MINUTES\n",
    "          -> DIM TIME. TIME ID\n",
    "          -> AfterCall Time - HSPLIT\n",
    "###### a)  After-call work refers to the tasks that an outsourced call center representative completes after they have finished interacting with a customer.\n",
    "###### b) Average after-call work time is measured by adding the total time spent by a specific representative (or team) over a set period and dividing the sum by the total number of calls over the same timeframe.\n",
    "          -> AnswerTime - HSPLIT    \n",
    "###### a) ASA - call center metric for the average amount of time it takes for calls to be answered in a call center during a specific time period.\n",
    "###### b) Average Speed of Answer = Total Waiting Time for Answered Calls/Total Number of Answered Calls\n",
    "          -> CALLS ABANDONED - HSPLIT - AUTO EXPLAINED\n",
    "          -> Answered Calls  AUTO EXPLAINED\n",
    "          -> Offered Calls - AUTO EXPLAINED\n",
    "          -> Handle Time - HSPLIT   -AHT \n",
    "###### a) AHT is the average time it takes to handle a call or transaction from start to finish – from call initiation, to hold time, to talk time, and all the way through to any related tasks an agent must perform post-phone call to resolve that call.\n",
    "###### b) It's not a sucess metric when it's analyzed alone because rushing agents to close tickets, rather than resolve issues, would hasten your AHT but would not work for CSAT for example.\n",
    "###### c) Formula -  AHT, add your total talk time + total hold time + total after-call tasks, and then divide by the number of total calls.\n",
    "          -> HoldCall - HSSPLIT \n",
    "###### a) Hold time is the average time it takes for an operator to answer a call. It's the amount of time a customer waits in the queue before getting a response from an agent.          \n",
    "          -> I Aux time - HSPLIT -\n",
    "###### a)Auxiliary time is the time an agent spends in unavailable status in the call center system, or during which the agent cannot accept new calls because they are on a break.\n",
    "###### b) Aux codes are used to keep track of call center agent time that has been voluntarily used to not accept calls. More specifically, it's used to manage non-call activities of agents.\n",
    "          -> IDLE TIME - HSPLIT\n",
    "###### a) Idle time is paid time that an employee, or machine, is unproductive that is a result of factors that can either be controlled or uncontrolled by management. ... Idle time may have serious implications for employers\n",
    "###### b)Abnormal idle time arises due to power failure, breakdown of machinery, non supply of raw material in time, delay in previous process, strikes and accidents etc. \n",
    "###### c) It's cost account, the cost of such idel time is included as either direct labor or manufacturing overhead and is part of the total product cost\n",
    "          -> MAX DELAY - HSPLIT\n",
    "###### Maximum time a customer in a queue waits before being connected to an operator or hanging up.\n",
    "          -> STAFF TIME - HSPLIT \n",
    "###### a) It's simply the number of FORECAST CALLS for an hour multiplied by the average handle time of a call. The average handle time (AHT) is made up of two components: actual conversation or talk time plus any after call wrap-up time associated with the call.\n",
    "          -> TALK TIME - HSPLIT\n",
    "###### Average Talk Time (ATT) is, quite simply, the amount of time an agent spends talking to customer\n",
    "          -> TIME \n",
    "          -> Type \n",
    "          -> SKill ID \n",
    "\n",
    "#### Sheet 2 - FACT HAGENT\n",
    "\n",
    "          -> Short Login \n",
    "          -> DIM CALENDAR.DATE.1\t\n",
    "          -> CALLS ABANDONED\t\n",
    "          -> CALLS ANSWERED - AUTO EXPLAINED\t\n",
    "          -> CALLS CONFERENCED \n",
    "##### Sheet 3 - A conference call is a telephone call in which someone talks to several people at the same time. The conference call may be designed to allow the called party to participate during the call or set up so that the called party merely listens into the call and cannot speak.\n",
    "            1)Dial the first call, and wait for the recipient to pick up. ...\n",
    "            2)Tap the Add Call button.\n",
    "            3)Dial the second number.\n",
    "            4)Touch the Merge or Merge Call button.\n",
    "            5) Repeat steps 2 and 3 to add more callers to the conference.\n",
    "            \n",
    "            \n",
    "          -> CALLS RETURN TO Q DUE TO TIMEOUT\t- Auto Explained\n",
    "          -> CALLS TRANSFERRED\t- Auto explained\n",
    "          -> CONTACT HOLDTIME\t- apply Definition above\n",
    "          -> CONTACT TALK TIME\t-apply Definition above\n",
    "          -> IDLE TIME\t- apply Definition above\n",
    "          -> LOGIN DURATION\t - Mean time for the agent login\n",
    "          -> POST CALL PROCESSING TIME\t\n",
    "##### a) After-call work includes all tasks which require completion once your contact center’s agents’ phone conversations with customers are finished.\n",
    "          -> RING TIME - Auto Explained\n",
    "          -> SCHEDULED TIME\n",
    "##### a) In simple words, call center agent scheduling includes any and every task to manage agents and their varied chores in such a way that the call center can reach its optimum performance\n",
    "          -> TOTAL STAFFED TIME\n",
    "###### a) It's simply the number of forecast calls for an hour multiplied by the average handle time of a call. The average handle time (AHT) is made up of two components: actual conversation or talk time plus any after call wrap-up time associated with the call.\n",
    "          -> WAIT TIME\t\n",
    "          -> WORKED TIME\t\n",
    "          -> Type\t\n",
    "          -> Skill ID\t\n",
    "          -> LOB\n",
    "###### Line of business (LOB) is a general term which refers to a product or a set of related products that serve a particular customer transaction or business need.\n",
    "\n",
    "#### Sheet 3 - FACT SERVREQ\n",
    "          -> DIM AGENT.LOGIN\t\n",
    "          -> DIM CALENDAR.DATE.1\t\n",
    "          -> Resolution Name\t\n",
    "          -> DIM TIME.HOUR\t\n",
    "          -> DIM TIME.MINUTES\t\n",
    "          -> DIM TIME.TIME ID\t\n",
    "          -> Incidents Created\t\n",
    "          -> Incidents Updated\t\n",
    "          -> Time\t\n",
    "          -> Tier - In the next steps we gonna perform queries for understand these tiers\n",
    "##### Tier 1: This is the organization's “first line of defense,”. ... Tier 2: When a customer issue is beyond the skill of the Tier 1 staff to resolve, the issue escalates to Tier 2. Tier 2 staff have the knowledge base and skills to handle more complex customer issues and will often use remote control tools\n",
    "\n",
    "#### Sheet 4 - FACT EMAIL\n",
    "\n",
    "          -> Agent Login\t\n",
    "          -> Closed Reason\t\n",
    "          -> Avg. Time Allocated\t- AHT \n",
    "##### a) Average handle time (AHT) is a metric that's commonly used as a key performance indicator (KPI) for call centers. It represents the average length of contact for a customer on a cal\n",
    "          -> AVG_TIME_ARRIVE_TO_CLOSE\t\n",
    "          -> SLA\t\n",
    "##### a) A service-level agreement (SLA) defines the level of service you expect from a vendor, laying out the metrics by which service is measured, as well as remedies or penalties should agreed-on service levels not be achieved.\n",
    "          -> COUNT ARRIVAL\t\n",
    "          -> COUNT CLOSED\t\n",
    "          -> COUNT FIRST OPENED\t\n",
    "          -> COUNT OPENED\t\n",
    "          -> TIME SINCE ARRIVED TO CLOSE\t\n",
    "          -> Date\t\n",
    "          -> Emails within SLA\n",
    "##### a) A service level agreement (SLA) is a part of a contract where the level of service is formally defined. ... It is common to append an SLA to your contract with your email service provider, regardless of whether it's a hosted service or an in-house solution\n",
    "\n",
    "#### Sheet 5 - CSAT \n",
    "\n",
    "    CSAT is short for Customer Satisfaction, which is a commonly-used key performance indicator used to track how satisfied customers are with your organization’s products and/or services\n",
    "    CSAT is measured by one or more variations of this question that usually appears at the end of a customer feedback survey:\n",
    "\n",
    "    “How would you rate your overall satisfaction with the [goods/service] you received?”\n",
    "\n",
    "    Respondents use the following 1 to 5 scale:\n",
    "1. Very unsatisfied\n",
    "2. Unsatisfied\n",
    "3. Neutral\n",
    "4. Satisfied\n",
    "5. Very satisfied\n",
    "\n",
    "Calculating CSAT\n",
    "To do this, only responses of 8 (satisfied) to 10 (very satisfied) are included in the calculation, as it has been shown that using the two highest values on feedback surveys is the most accurate predictor of customer retention.\n",
    "\n",
    "(Number of satisfied customers (8 to 10) / Number of survey responses) x 100 = % of satisfied customers"
   ]
  },
  {
   "cell_type": "markdown",
   "metadata": {},
   "source": [
    "## 0.5 Loading Data\n",
    "We have an Xlsb file with 5 tabs to be analyzed.\n",
    "The argument sheet_name make us possible to extract each tab.\n",
    "Then we gonna save all the tabs in individual csv files for be able to manipulate one by one, after this process we can select each of them to merge and continue analysis"
   ]
  },
  {
   "cell_type": "code",
   "execution_count": 11,
   "metadata": {
    "ExecuteTime": {
     "end_time": "2020-09-26T08:45:43.147118Z",
     "start_time": "2020-09-26T08:39:21.980912Z"
    }
   },
   "outputs": [],
   "source": [
    "df_raw = pd.read_excel('../data/Case_Study_Data.xlsb', engine='pyxlsb')\n",
    "#There some other ways to improve the performance! Let's try in the NEXT TOPIC\n",
    "\n",
    "# Extract Tab 1 - FACT HSPLIT\n",
    "df_raw_tab1 = pd.read_excel('../data/Case_Study_Data.xlsb', engine='pyxlsb', sheet_name='FACT HSPLIT')\n",
    "#Extract Tab 2 - FACT HAGENT\n",
    "df_raw_tab2 = pd.read_excel('../data/Case_Study_Data.xlsb', engine='pyxlsb', sheet_name='FACT HAGENT')\n",
    "# Extract Tab 3 - FACT SERVREQ\n",
    "df_raw_tab3 = pd.read_excel('../data/Case_Study_Data.xlsb', engine='pyxlsb', sheet_name='FACT SERVREQ')\n",
    "# Extract Tab 4 FACT EMAIl\n",
    "df_raw_tab4 = pd.read_excel('../data/Case_Study_Data.xlsb', engine='pyxlsb', sheet_name='FACT EMAIL')\n",
    "# Extract Tab 5 - CSAT\n",
    "df_raw_tab5 = pd.read_excel('../data/Case_Study_Data.xlsb', engine='pyxlsb', sheet_name='CSAT')    "
   ]
  },
  {
   "cell_type": "code",
   "execution_count": 15,
   "metadata": {
    "ExecuteTime": {
     "end_time": "2020-09-26T09:25:34.140082Z",
     "start_time": "2020-09-26T09:18:12.240144Z"
    }
   },
   "outputs": [],
   "source": [
    "# TO CSV FOR SAVE\n",
    "#FACT HSPLIT\n",
    "df_raw_tab1.to_excel('../data/FACT_HSPLIT.xlsx', index=False)\n",
    "#FACT HAGENT\n",
    "df_raw_tab2.to_excel('../data/FACT_HAGENT.xlsx', index=False)\n",
    "#FACT SERVREQ\n",
    "df_raw_tab3.to_excel('../data/FACT_SERVREQ.xlsx', index=False)\n",
    "#FACT EMAIL\n",
    "df_raw_tab4.to_excel('../data/FACT_EMAIL.xlsx', index_label=False)\n",
    "#CSAT\n",
    "df_raw_tab5.to_excel('../data/CSAT.xlsx', index=False)"
   ]
  },
  {
   "cell_type": "markdown",
   "metadata": {},
   "source": [
    "### 0.5.1 Dealing with Sheets \n",
    "At this point we already have all the tabs in different CSV's, for consume less memory and work with one DataFrame only! It's a performance option, nevertheless we gonna keep the xlsx files."
   ]
  },
  {
   "cell_type": "code",
   "execution_count": 16,
   "metadata": {
    "ExecuteTime": {
     "end_time": "2020-09-26T09:30:46.395920Z",
     "start_time": "2020-09-26T09:27:02.044119Z"
    }
   },
   "outputs": [],
   "source": [
    "df_r = pd.read_excel('../data/Case_Study_Data.xlsb', engine='pyxlsb',sheet_name=['FACT HSPLIT',\n",
    "                                                                                 'FACT HAGENT', \n",
    "                                                                                 'FACT SERVREQ', \n",
    "                                                                                 'FACT EMAIL', \n",
    "                                                                                 'CSAT'])\n",
    "\n",
    "# FACT HSPLIT\n",
    "df_raw_tb1 = df_r['FACT HSPLIT']\n",
    "#FACT HAGENT\n",
    "df_raw_tb2 = df_r['FACT HAGENT']\n",
    "# FACT SERVREQ\n",
    "df_raw_tb3 = df_r['FACT SERVREQ']\n",
    "# FACT EMAIL\n",
    "df_raw_tb4 = df_r['FACT EMAIL']\n",
    "# CSAT\n",
    "df_raw_tb5 = df_r['CSAT']"
   ]
  },
  {
   "cell_type": "markdown",
   "metadata": {},
   "source": [
    "### 0.5.2 Project Initial Checkpoint and Copy"
   ]
  },
  {
   "cell_type": "code",
   "execution_count": 17,
   "metadata": {
    "ExecuteTime": {
     "end_time": "2020-09-26T09:42:48.410193Z",
     "start_time": "2020-09-26T09:42:48.315252Z"
    }
   },
   "outputs": [],
   "source": [
    "df1 = df_r.copy()\n",
    "\n",
    "df_tb1 = df_raw_tb1.copy()\n",
    "df_tb2 = df_raw_tb2.copy()\n",
    "df_tb3 = df_raw_tb3.copy()\n",
    "df_tb4 = df_raw_tb4.copy()\n",
    "df_tb5 = df_raw_tb5.copy()"
   ]
  },
  {
   "cell_type": "markdown",
   "metadata": {},
   "source": [
    "# 1.0 DATA DESCRIPTION & MANIPULATION\n",
    "We already have an idea of ​​what we believe to be more important and which are not necessarily self-explanatory at the checkpoint: at this stage we will try to understand the data we have before actually cleaning and manipulating it."
   ]
  },
  {
   "cell_type": "markdown",
   "metadata": {},
   "source": [
    "*FACT HSPLIT - df_tb1* "
   ]
  },
  {
   "cell_type": "code",
   "execution_count": 23,
   "metadata": {
    "ExecuteTime": {
     "end_time": "2020-09-26T09:50:14.793481Z",
     "start_time": "2020-09-26T09:50:14.764502Z"
    }
   },
   "outputs": [
    {
     "data": {
      "text/html": [
       "<div>\n",
       "<style scoped>\n",
       "    .dataframe tbody tr th:only-of-type {\n",
       "        vertical-align: middle;\n",
       "    }\n",
       "\n",
       "    .dataframe tbody tr th {\n",
       "        vertical-align: top;\n",
       "    }\n",
       "\n",
       "    .dataframe thead th {\n",
       "        text-align: right;\n",
       "    }\n",
       "</style>\n",
       "<table border=\"1\" class=\"dataframe\">\n",
       "  <thead>\n",
       "    <tr style=\"text-align: right;\">\n",
       "      <th></th>\n",
       "      <th>DIM CALENDAR.DATE.1</th>\n",
       "      <th>DIM TIME.HOUR</th>\n",
       "      <th>DIM TIME.MINUTES</th>\n",
       "      <th>DIM TIME.TIME ID</th>\n",
       "      <th>AFTERCALL TIME - HSPLIT</th>\n",
       "      <th>ANSWER TIME - HSPLIT</th>\n",
       "      <th>CALLS ABANDONED - HSPLIT</th>\n",
       "      <th>Answered Calls</th>\n",
       "      <th>Offered Calls</th>\n",
       "      <th>HANDLE TIME - HSPLIT</th>\n",
       "      <th>HOLD CALLS - HSPLIT</th>\n",
       "      <th>HOLD TIME - HSPLIT</th>\n",
       "      <th>I AUXTIME - HSPLIT</th>\n",
       "      <th>IDLE TIME - HSPLIT</th>\n",
       "      <th>MAX DELAY - HSPLIT</th>\n",
       "      <th>STAFF TIME - HSPLIT</th>\n",
       "      <th>TALK TIME - HSPLIT</th>\n",
       "      <th>Time</th>\n",
       "      <th>Type</th>\n",
       "      <th>SKill ID</th>\n",
       "    </tr>\n",
       "  </thead>\n",
       "  <tbody>\n",
       "    <tr>\n",
       "      <th>0</th>\n",
       "      <td>16 de outubro de 2017</td>\n",
       "      <td>18</td>\n",
       "      <td>30</td>\n",
       "      <td>183000</td>\n",
       "      <td>0</td>\n",
       "      <td>0</td>\n",
       "      <td>0</td>\n",
       "      <td>0</td>\n",
       "      <td>0</td>\n",
       "      <td>0</td>\n",
       "      <td>0</td>\n",
       "      <td>0</td>\n",
       "      <td>0</td>\n",
       "      <td>0</td>\n",
       "      <td>0</td>\n",
       "      <td>1800</td>\n",
       "      <td>0</td>\n",
       "      <td>0.770833</td>\n",
       "      <td>Tech Support</td>\n",
       "      <td>10</td>\n",
       "    </tr>\n",
       "    <tr>\n",
       "      <th>1</th>\n",
       "      <td>21 de outubro de 2017</td>\n",
       "      <td>18</td>\n",
       "      <td>30</td>\n",
       "      <td>183000</td>\n",
       "      <td>0</td>\n",
       "      <td>0</td>\n",
       "      <td>0</td>\n",
       "      <td>0</td>\n",
       "      <td>0</td>\n",
       "      <td>0</td>\n",
       "      <td>0</td>\n",
       "      <td>0</td>\n",
       "      <td>0</td>\n",
       "      <td>0</td>\n",
       "      <td>0</td>\n",
       "      <td>1800</td>\n",
       "      <td>0</td>\n",
       "      <td>0.770833</td>\n",
       "      <td>Tech Support</td>\n",
       "      <td>10</td>\n",
       "    </tr>\n",
       "    <tr>\n",
       "      <th>2</th>\n",
       "      <td>23 de outubro de 2017</td>\n",
       "      <td>18</td>\n",
       "      <td>30</td>\n",
       "      <td>183000</td>\n",
       "      <td>0</td>\n",
       "      <td>0</td>\n",
       "      <td>0</td>\n",
       "      <td>0</td>\n",
       "      <td>0</td>\n",
       "      <td>0</td>\n",
       "      <td>0</td>\n",
       "      <td>0</td>\n",
       "      <td>0</td>\n",
       "      <td>0</td>\n",
       "      <td>0</td>\n",
       "      <td>1800</td>\n",
       "      <td>0</td>\n",
       "      <td>0.770833</td>\n",
       "      <td>Tech Support</td>\n",
       "      <td>10</td>\n",
       "    </tr>\n",
       "    <tr>\n",
       "      <th>3</th>\n",
       "      <td>14 de novembro de 2017</td>\n",
       "      <td>18</td>\n",
       "      <td>30</td>\n",
       "      <td>183000</td>\n",
       "      <td>0</td>\n",
       "      <td>0</td>\n",
       "      <td>0</td>\n",
       "      <td>0</td>\n",
       "      <td>0</td>\n",
       "      <td>0</td>\n",
       "      <td>0</td>\n",
       "      <td>0</td>\n",
       "      <td>0</td>\n",
       "      <td>0</td>\n",
       "      <td>0</td>\n",
       "      <td>1800</td>\n",
       "      <td>0</td>\n",
       "      <td>0.770833</td>\n",
       "      <td>Tech Support</td>\n",
       "      <td>10</td>\n",
       "    </tr>\n",
       "    <tr>\n",
       "      <th>4</th>\n",
       "      <td>7 de dezembro de 2017</td>\n",
       "      <td>18</td>\n",
       "      <td>30</td>\n",
       "      <td>183000</td>\n",
       "      <td>0</td>\n",
       "      <td>0</td>\n",
       "      <td>0</td>\n",
       "      <td>0</td>\n",
       "      <td>0</td>\n",
       "      <td>0</td>\n",
       "      <td>0</td>\n",
       "      <td>0</td>\n",
       "      <td>0</td>\n",
       "      <td>0</td>\n",
       "      <td>0</td>\n",
       "      <td>1800</td>\n",
       "      <td>0</td>\n",
       "      <td>0.770833</td>\n",
       "      <td>Tech Support</td>\n",
       "      <td>2</td>\n",
       "    </tr>\n",
       "  </tbody>\n",
       "</table>\n",
       "</div>"
      ],
      "text/plain": [
       "      DIM CALENDAR.DATE.1  DIM TIME.HOUR  DIM TIME.MINUTES  DIM TIME.TIME ID  \\\n",
       "0   16 de outubro de 2017             18                30            183000   \n",
       "1   21 de outubro de 2017             18                30            183000   \n",
       "2   23 de outubro de 2017             18                30            183000   \n",
       "3  14 de novembro de 2017             18                30            183000   \n",
       "4   7 de dezembro de 2017             18                30            183000   \n",
       "\n",
       "   AFTERCALL TIME - HSPLIT  ANSWER TIME - HSPLIT  CALLS ABANDONED - HSPLIT  \\\n",
       "0                        0                     0                         0   \n",
       "1                        0                     0                         0   \n",
       "2                        0                     0                         0   \n",
       "3                        0                     0                         0   \n",
       "4                        0                     0                         0   \n",
       "\n",
       "   Answered Calls  Offered Calls  HANDLE TIME - HSPLIT  HOLD CALLS - HSPLIT  \\\n",
       "0               0              0                     0                    0   \n",
       "1               0              0                     0                    0   \n",
       "2               0              0                     0                    0   \n",
       "3               0              0                     0                    0   \n",
       "4               0              0                     0                    0   \n",
       "\n",
       "   HOLD TIME - HSPLIT  I AUXTIME - HSPLIT  IDLE TIME - HSPLIT  \\\n",
       "0                   0                   0                   0   \n",
       "1                   0                   0                   0   \n",
       "2                   0                   0                   0   \n",
       "3                   0                   0                   0   \n",
       "4                   0                   0                   0   \n",
       "\n",
       "   MAX DELAY - HSPLIT  STAFF TIME - HSPLIT  TALK TIME - HSPLIT      Time  \\\n",
       "0                   0                 1800                   0  0.770833   \n",
       "1                   0                 1800                   0  0.770833   \n",
       "2                   0                 1800                   0  0.770833   \n",
       "3                   0                 1800                   0  0.770833   \n",
       "4                   0                 1800                   0  0.770833   \n",
       "\n",
       "           Type  SKill ID  \n",
       "0  Tech Support        10  \n",
       "1  Tech Support        10  \n",
       "2  Tech Support        10  \n",
       "3  Tech Support        10  \n",
       "4  Tech Support         2  "
      ]
     },
     "execution_count": 23,
     "metadata": {},
     "output_type": "execute_result"
    }
   ],
   "source": [
    "df_tb1.head()"
   ]
  },
  {
   "cell_type": "code",
   "execution_count": 30,
   "metadata": {
    "ExecuteTime": {
     "end_time": "2020-09-26T09:55:22.606651Z",
     "start_time": "2020-09-26T09:55:22.563677Z"
    }
   },
   "outputs": [
    {
     "data": {
      "text/html": [
       "<div>\n",
       "<style scoped>\n",
       "    .dataframe tbody tr th:only-of-type {\n",
       "        vertical-align: middle;\n",
       "    }\n",
       "\n",
       "    .dataframe tbody tr th {\n",
       "        vertical-align: top;\n",
       "    }\n",
       "\n",
       "    .dataframe thead th {\n",
       "        text-align: right;\n",
       "    }\n",
       "</style>\n",
       "<table border=\"1\" class=\"dataframe\">\n",
       "  <thead>\n",
       "    <tr style=\"text-align: right;\">\n",
       "      <th></th>\n",
       "      <th>DIM CALENDAR.DATE.1</th>\n",
       "      <th>DIM TIME.HOUR</th>\n",
       "      <th>DIM TIME.MINUTES</th>\n",
       "      <th>DIM TIME.TIME ID</th>\n",
       "      <th>AFTERCALL TIME - HSPLIT</th>\n",
       "      <th>ANSWER TIME - HSPLIT</th>\n",
       "      <th>CALLS ABANDONED - HSPLIT</th>\n",
       "      <th>Answered Calls</th>\n",
       "      <th>Offered Calls</th>\n",
       "      <th>HANDLE TIME - HSPLIT</th>\n",
       "      <th>HOLD CALLS - HSPLIT</th>\n",
       "      <th>HOLD TIME - HSPLIT</th>\n",
       "      <th>I AUXTIME - HSPLIT</th>\n",
       "      <th>IDLE TIME - HSPLIT</th>\n",
       "      <th>MAX DELAY - HSPLIT</th>\n",
       "      <th>STAFF TIME - HSPLIT</th>\n",
       "      <th>TALK TIME - HSPLIT</th>\n",
       "      <th>Time</th>\n",
       "      <th>Type</th>\n",
       "      <th>SKill ID</th>\n",
       "    </tr>\n",
       "  </thead>\n",
       "  <tbody>\n",
       "    <tr>\n",
       "      <th>234146</th>\n",
       "      <td>12 de abril de 2019</td>\n",
       "      <td>14</td>\n",
       "      <td>0</td>\n",
       "      <td>140000</td>\n",
       "      <td>215</td>\n",
       "      <td>112</td>\n",
       "      <td>0</td>\n",
       "      <td>1</td>\n",
       "      <td>1</td>\n",
       "      <td>354</td>\n",
       "      <td>0</td>\n",
       "      <td>0</td>\n",
       "      <td>0</td>\n",
       "      <td>0</td>\n",
       "      <td>112</td>\n",
       "      <td>5400</td>\n",
       "      <td>139</td>\n",
       "      <td>0.583333</td>\n",
       "      <td>Tech Support</td>\n",
       "      <td>52</td>\n",
       "    </tr>\n",
       "    <tr>\n",
       "      <th>234147</th>\n",
       "      <td>20 de abril de 2019</td>\n",
       "      <td>15</td>\n",
       "      <td>0</td>\n",
       "      <td>150000</td>\n",
       "      <td>197</td>\n",
       "      <td>4437</td>\n",
       "      <td>0</td>\n",
       "      <td>1</td>\n",
       "      <td>1</td>\n",
       "      <td>702</td>\n",
       "      <td>0</td>\n",
       "      <td>0</td>\n",
       "      <td>0</td>\n",
       "      <td>0</td>\n",
       "      <td>4437</td>\n",
       "      <td>5400</td>\n",
       "      <td>505</td>\n",
       "      <td>0.625000</td>\n",
       "      <td>Tech Support</td>\n",
       "      <td>18</td>\n",
       "    </tr>\n",
       "    <tr>\n",
       "      <th>234148</th>\n",
       "      <td>23 de abril de 2019</td>\n",
       "      <td>10</td>\n",
       "      <td>0</td>\n",
       "      <td>100000</td>\n",
       "      <td>45</td>\n",
       "      <td>2752</td>\n",
       "      <td>0</td>\n",
       "      <td>1</td>\n",
       "      <td>1</td>\n",
       "      <td>1607</td>\n",
       "      <td>0</td>\n",
       "      <td>0</td>\n",
       "      <td>0</td>\n",
       "      <td>0</td>\n",
       "      <td>2752</td>\n",
       "      <td>5400</td>\n",
       "      <td>1562</td>\n",
       "      <td>0.416667</td>\n",
       "      <td>Tech Support</td>\n",
       "      <td>18</td>\n",
       "    </tr>\n",
       "    <tr>\n",
       "      <th>234149</th>\n",
       "      <td>25 de abril de 2019</td>\n",
       "      <td>13</td>\n",
       "      <td>0</td>\n",
       "      <td>130000</td>\n",
       "      <td>4</td>\n",
       "      <td>272</td>\n",
       "      <td>0</td>\n",
       "      <td>1</td>\n",
       "      <td>1</td>\n",
       "      <td>65</td>\n",
       "      <td>0</td>\n",
       "      <td>0</td>\n",
       "      <td>0</td>\n",
       "      <td>0</td>\n",
       "      <td>272</td>\n",
       "      <td>5400</td>\n",
       "      <td>61</td>\n",
       "      <td>0.541667</td>\n",
       "      <td>Tech Support</td>\n",
       "      <td>52</td>\n",
       "    </tr>\n",
       "    <tr>\n",
       "      <th>234150</th>\n",
       "      <td>25 de abril de 2019</td>\n",
       "      <td>13</td>\n",
       "      <td>0</td>\n",
       "      <td>130000</td>\n",
       "      <td>32</td>\n",
       "      <td>87</td>\n",
       "      <td>0</td>\n",
       "      <td>1</td>\n",
       "      <td>1</td>\n",
       "      <td>364</td>\n",
       "      <td>0</td>\n",
       "      <td>0</td>\n",
       "      <td>0</td>\n",
       "      <td>0</td>\n",
       "      <td>87</td>\n",
       "      <td>5400</td>\n",
       "      <td>332</td>\n",
       "      <td>0.541667</td>\n",
       "      <td>Tech Support</td>\n",
       "      <td>57</td>\n",
       "    </tr>\n",
       "  </tbody>\n",
       "</table>\n",
       "</div>"
      ],
      "text/plain": [
       "        DIM CALENDAR.DATE.1  DIM TIME.HOUR  DIM TIME.MINUTES  \\\n",
       "234146  12 de abril de 2019             14                 0   \n",
       "234147  20 de abril de 2019             15                 0   \n",
       "234148  23 de abril de 2019             10                 0   \n",
       "234149  25 de abril de 2019             13                 0   \n",
       "234150  25 de abril de 2019             13                 0   \n",
       "\n",
       "        DIM TIME.TIME ID  AFTERCALL TIME - HSPLIT  ANSWER TIME - HSPLIT  \\\n",
       "234146            140000                      215                   112   \n",
       "234147            150000                      197                  4437   \n",
       "234148            100000                       45                  2752   \n",
       "234149            130000                        4                   272   \n",
       "234150            130000                       32                    87   \n",
       "\n",
       "        CALLS ABANDONED - HSPLIT  Answered Calls  Offered Calls  \\\n",
       "234146                         0               1              1   \n",
       "234147                         0               1              1   \n",
       "234148                         0               1              1   \n",
       "234149                         0               1              1   \n",
       "234150                         0               1              1   \n",
       "\n",
       "        HANDLE TIME - HSPLIT  HOLD CALLS - HSPLIT  HOLD TIME - HSPLIT  \\\n",
       "234146                   354                    0                   0   \n",
       "234147                   702                    0                   0   \n",
       "234148                  1607                    0                   0   \n",
       "234149                    65                    0                   0   \n",
       "234150                   364                    0                   0   \n",
       "\n",
       "        I AUXTIME - HSPLIT  IDLE TIME - HSPLIT  MAX DELAY - HSPLIT  \\\n",
       "234146                   0                   0                 112   \n",
       "234147                   0                   0                4437   \n",
       "234148                   0                   0                2752   \n",
       "234149                   0                   0                 272   \n",
       "234150                   0                   0                  87   \n",
       "\n",
       "        STAFF TIME - HSPLIT  TALK TIME - HSPLIT      Time          Type  \\\n",
       "234146                 5400                 139  0.583333  Tech Support   \n",
       "234147                 5400                 505  0.625000  Tech Support   \n",
       "234148                 5400                1562  0.416667  Tech Support   \n",
       "234149                 5400                  61  0.541667  Tech Support   \n",
       "234150                 5400                 332  0.541667  Tech Support   \n",
       "\n",
       "        SKill ID  \n",
       "234146        52  \n",
       "234147        18  \n",
       "234148        18  \n",
       "234149        52  \n",
       "234150        57  "
      ]
     },
     "execution_count": 30,
     "metadata": {},
     "output_type": "execute_result"
    }
   ],
   "source": [
    "df_tb1.tail()"
   ]
  },
  {
   "cell_type": "code",
   "execution_count": 20,
   "metadata": {
    "ExecuteTime": {
     "end_time": "2020-09-26T09:43:20.060693Z",
     "start_time": "2020-09-26T09:43:19.948762Z"
    }
   },
   "outputs": [
    {
     "name": "stdout",
     "output_type": "stream",
     "text": [
      "<class 'pandas.core.frame.DataFrame'>\n",
      "RangeIndex: 234151 entries, 0 to 234150\n",
      "Data columns (total 20 columns):\n",
      " #   Column                    Non-Null Count   Dtype  \n",
      "---  ------                    --------------   -----  \n",
      " 0   DIM CALENDAR.DATE.1       234151 non-null  object \n",
      " 1   DIM TIME.HOUR             234151 non-null  int64  \n",
      " 2   DIM TIME.MINUTES          234151 non-null  int64  \n",
      " 3   DIM TIME.TIME ID          234151 non-null  int64  \n",
      " 4   AFTERCALL TIME - HSPLIT   234151 non-null  int64  \n",
      " 5   ANSWER TIME - HSPLIT      234151 non-null  int64  \n",
      " 6   CALLS ABANDONED - HSPLIT  234151 non-null  int64  \n",
      " 7   Answered Calls            234151 non-null  int64  \n",
      " 8   Offered Calls             234151 non-null  int64  \n",
      " 9   HANDLE TIME - HSPLIT      234151 non-null  int64  \n",
      " 10  HOLD CALLS - HSPLIT       234151 non-null  int64  \n",
      " 11  HOLD TIME - HSPLIT        234151 non-null  int64  \n",
      " 12  I AUXTIME - HSPLIT        234151 non-null  int64  \n",
      " 13  IDLE TIME - HSPLIT        234151 non-null  int64  \n",
      " 14  MAX DELAY - HSPLIT        234151 non-null  int64  \n",
      " 15  STAFF TIME - HSPLIT       234151 non-null  int64  \n",
      " 16  TALK TIME - HSPLIT        234151 non-null  int64  \n",
      " 17  Time                      234151 non-null  float64\n",
      " 18  Type                      234151 non-null  object \n",
      " 19  SKill ID                  234151 non-null  int64  \n",
      "dtypes: float64(1), int64(17), object(2)\n",
      "memory usage: 35.7+ MB\n"
     ]
    }
   ],
   "source": [
    "#Check the spreadsheets info\n",
    "df_tb1.info()"
   ]
  },
  {
   "cell_type": "markdown",
   "metadata": {},
   "source": [
    "We can see that most part of the columns, meaning :\n",
    "   - DIM CALENDAR DATE\n",
    "   - DIM TIME HOUR\n",
    "   - DIM TIME. MINUTES\n",
    "   - DIM TIME ID (Maybe)\n",
    "   - AFTER TIME - HSPLIT\n",
    "   - ANSWER TIME - HSPLIT\n",
    "   - HANDLE TIME - IDLE TIME\n",
    "   - TALK TIME\n",
    "   - TIME)\n",
    "   \n",
    "They are related to TIME. We can already see that the dtypes are incorrect, which needs precisely a transformation.\n",
    "\n",
    "\n",
    "The columns\n",
    "(HOLD CALLS - HSPLIT\n",
    "HOLD TIME - HSPLIT\n",
    "I AUXTIME - HSPLIT)\n",
    "They are filled from the beginning to the end with the value 0. We will try to find out what this means and find out if we treat them as NaN Values ​​or as values ​​that we can drop from the dataset for a more precise analysis.\n",
    "\n",
    "*FACT HAGENT - df_tb2*"
   ]
  },
  {
   "cell_type": "code",
   "execution_count": 31,
   "metadata": {
    "ExecuteTime": {
     "end_time": "2020-09-26T11:07:31.599235Z",
     "start_time": "2020-09-26T11:07:31.524280Z"
    }
   },
   "outputs": [
    {
     "name": "stdout",
     "output_type": "stream",
     "text": [
      "<class 'pandas.core.frame.DataFrame'>\n",
      "RangeIndex: 80111 entries, 0 to 80110\n",
      "Data columns (total 20 columns):\n",
      " #   Column                            Non-Null Count  Dtype  \n",
      "---  ------                            --------------  -----  \n",
      " 0   Short Login                       80111 non-null  object \n",
      " 1   DIM CALENDAR.DATE.1               80111 non-null  object \n",
      " 2   CALLS ABANDONED                   80111 non-null  int64  \n",
      " 3   CALLS ANSWERED                    80111 non-null  int64  \n",
      " 4   CALLS CONFERENCED                 80111 non-null  int64  \n",
      " 5   CALLS RETURN TO Q DUE TO TIMEOUT  80111 non-null  int64  \n",
      " 6   CALLS TRANSFERRED                 80111 non-null  int64  \n",
      " 7   CONTACT HOLDTIME                  80111 non-null  int64  \n",
      " 8   CONTACT TALK TIME                 80111 non-null  int64  \n",
      " 9   IDLE TIME                         80111 non-null  int64  \n",
      " 10  LOGIN DURATION                    80111 non-null  float64\n",
      " 11  POST CALL PROCESSING TIME         80111 non-null  int64  \n",
      " 12  RING TIME                         80111 non-null  int64  \n",
      " 13  SCHEDULED TIME                    80111 non-null  float64\n",
      " 14  TOTAL STAFFED TIME                80111 non-null  int64  \n",
      " 15  WAIT TIME                         80111 non-null  int64  \n",
      " 16  WORKED TIME                       80111 non-null  float64\n",
      " 17  Type                              80111 non-null  object \n",
      " 18  Skill ID                          80111 non-null  int64  \n",
      " 19  LOB                               80111 non-null  object \n",
      "dtypes: float64(3), int64(13), object(4)\n",
      "memory usage: 12.2+ MB\n"
     ]
    }
   ],
   "source": [
    "#Lets Check Each Tab(Spreadsheet) of the DataSet \n",
    "df_tb2.info()"
   ]
  },
  {
   "cell_type": "markdown",
   "metadata": {},
   "source": []
  },
  {
   "cell_type": "code",
   "execution_count": 32,
   "metadata": {
    "ExecuteTime": {
     "end_time": "2020-09-26T11:07:32.040962Z",
     "start_time": "2020-09-26T11:07:31.998988Z"
    }
   },
   "outputs": [
    {
     "name": "stdout",
     "output_type": "stream",
     "text": [
      "<class 'pandas.core.frame.DataFrame'>\n",
      "RangeIndex: 57487 entries, 0 to 57486\n",
      "Data columns (total 10 columns):\n",
      " #   Column               Non-Null Count  Dtype  \n",
      "---  ------               --------------  -----  \n",
      " 0   DIM AGENT.LOGIN      57487 non-null  object \n",
      " 1   DIM CALENDAR.DATE.1  57487 non-null  object \n",
      " 2   Resolution Name      57487 non-null  object \n",
      " 3   DIM TIME.HOUR        57487 non-null  int64  \n",
      " 4   DIM TIME.MINUTES     57487 non-null  int64  \n",
      " 5   DIM TIME.TIME ID     57487 non-null  int64  \n",
      " 6   Incidents Created    57487 non-null  int64  \n",
      " 7   Incidents Updated    57487 non-null  int64  \n",
      " 8   Time                 57487 non-null  float64\n",
      " 9   Tier                 57487 non-null  object \n",
      "dtypes: float64(1), int64(5), object(4)\n",
      "memory usage: 4.4+ MB\n"
     ]
    }
   ],
   "source": [
    "df_tb3.info()"
   ]
  },
  {
   "cell_type": "raw",
   "metadata": {},
   "source": []
  },
  {
   "cell_type": "code",
   "execution_count": 33,
   "metadata": {
    "ExecuteTime": {
     "end_time": "2020-09-26T11:07:32.790766Z",
     "start_time": "2020-09-26T11:07:32.714814Z"
    }
   },
   "outputs": [
    {
     "name": "stdout",
     "output_type": "stream",
     "text": [
      "<class 'pandas.core.frame.DataFrame'>\n",
      "RangeIndex: 190624 entries, 0 to 190623\n",
      "Data columns (total 12 columns):\n",
      " #   Column                       Non-Null Count   Dtype  \n",
      "---  ------                       --------------   -----  \n",
      " 0   Agent Login                  190624 non-null  object \n",
      " 1   Closed Reason                184356 non-null  object \n",
      " 2   Avg. Time Allocated          22836 non-null   float64\n",
      " 3   AVG_TIME_ARRIVE_TO_CLOSE     22836 non-null   float64\n",
      " 4   SLA                          22836 non-null   float64\n",
      " 5   COUNT ARRIVAL                41661 non-null   float64\n",
      " 6   COUNT CLOSED                 41661 non-null   float64\n",
      " 7   COUNT FIRST OPENED           41661 non-null   float64\n",
      " 8   COUNT OPENED                 41661 non-null   float64\n",
      " 9   TIME SINCE ARRIVED TO CLOSE  41661 non-null   float64\n",
      " 10  Date                         190624 non-null  object \n",
      " 11  Emails within SLA            22836 non-null   float64\n",
      "dtypes: float64(9), object(3)\n",
      "memory usage: 17.5+ MB\n"
     ]
    }
   ],
   "source": [
    "df_tb4.info()"
   ]
  },
  {
   "cell_type": "markdown",
   "metadata": {},
   "source": []
  },
  {
   "cell_type": "code",
   "execution_count": 34,
   "metadata": {
    "ExecuteTime": {
     "end_time": "2020-09-26T11:07:33.182530Z",
     "start_time": "2020-09-26T11:07:33.157548Z"
    }
   },
   "outputs": [
    {
     "name": "stdout",
     "output_type": "stream",
     "text": [
      "<class 'pandas.core.frame.DataFrame'>\n",
      "RangeIndex: 4887 entries, 0 to 4886\n",
      "Data columns (total 17 columns):\n",
      " #   Column                      Non-Null Count  Dtype  \n",
      "---  ------                      --------------  -----  \n",
      " 0   Agent Login                 4887 non-null   object \n",
      " 1   DIM CSAT PRODUCT LINE.NAME  4887 non-null   object \n",
      " 2   Time to feedback            4887 non-null   int64  \n",
      " 3   CONVERSION_RATE_CSAT        4887 non-null   float64\n",
      " 4   CONVERSION_RATE_DSAT        4887 non-null   float64\n",
      " 5   Number of CSAT              4887 non-null   int64  \n",
      " 6   Number of DSAT              4887 non-null   int64  \n",
      " 7   Number of Incidents         4887 non-null   int64  \n",
      " 8   System Name                 4887 non-null   object \n",
      " 9   Tier                        4887 non-null   object \n",
      " 10  Date                        4887 non-null   object \n",
      " 11  FIRST_CALL_RESOLUTION       3206 non-null   float64\n",
      " 12  RESOLUTION_RATE             4887 non-null   float64\n",
      " 13  Cases resolved              4887 non-null   int64  \n",
      " 14  Cases resolves - first res  3206 non-null   float64\n",
      " 15  Service                     4887 non-null   object \n",
      " 16  Channel                     4887 non-null   object \n",
      "dtypes: float64(5), int64(5), object(7)\n",
      "memory usage: 649.2+ KB\n"
     ]
    }
   ],
   "source": [
    "df_tb5.info()"
   ]
  },
  {
   "cell_type": "markdown",
   "metadata": {},
   "source": [
    "*OBservations*"
   ]
  },
  {
   "cell_type": "markdown",
   "metadata": {},
   "source": [
    "## 1.1 Renaming Columns"
   ]
  },
  {
   "cell_type": "markdown",
   "metadata": {},
   "source": [
    "## 1.2 Checking Data Dimensions"
   ]
  },
  {
   "cell_type": "code",
   "execution_count": null,
   "metadata": {},
   "outputs": [],
   "source": [
    "print('Number of rows : {}'.format(df_tb1.shape[0]))\n",
    "print('Number of cols : {}',format(df)"
   ]
  },
  {
   "cell_type": "code",
   "execution_count": null,
   "metadata": {},
   "outputs": [],
   "source": []
  },
  {
   "cell_type": "code",
   "execution_count": null,
   "metadata": {},
   "outputs": [],
   "source": []
  },
  {
   "cell_type": "code",
   "execution_count": null,
   "metadata": {},
   "outputs": [],
   "source": []
  },
  {
   "cell_type": "code",
   "execution_count": null,
   "metadata": {},
   "outputs": [],
   "source": []
  },
  {
   "cell_type": "markdown",
   "metadata": {},
   "source": [
    "## 1.3 Checking Data Types"
   ]
  },
  {
   "cell_type": "code",
   "execution_count": null,
   "metadata": {},
   "outputs": [],
   "source": [
    ".dtypes"
   ]
  },
  {
   "cell_type": "code",
   "execution_count": null,
   "metadata": {},
   "outputs": [],
   "source": [
    ".dtypes"
   ]
  },
  {
   "cell_type": "code",
   "execution_count": null,
   "metadata": {},
   "outputs": [],
   "source": [
    ".dtypes"
   ]
  },
  {
   "cell_type": "code",
   "execution_count": null,
   "metadata": {},
   "outputs": [],
   "source": [
    ".dtypes"
   ]
  },
  {
   "cell_type": "code",
   "execution_count": null,
   "metadata": {},
   "outputs": [],
   "source": [
    ".dtypes"
   ]
  },
  {
   "cell_type": "markdown",
   "metadata": {},
   "source": [
    "## 1.4 Checking NaN Values"
   ]
  },
  {
   "cell_type": "code",
   "execution_count": null,
   "metadata": {},
   "outputs": [],
   "source": [
    ".isna().sum()"
   ]
  },
  {
   "cell_type": "code",
   "execution_count": null,
   "metadata": {},
   "outputs": [],
   "source": [
    ".isna().sum()"
   ]
  },
  {
   "cell_type": "code",
   "execution_count": null,
   "metadata": {},
   "outputs": [],
   "source": [
    ".isna().sum()"
   ]
  },
  {
   "cell_type": "code",
   "execution_count": null,
   "metadata": {},
   "outputs": [],
   "source": [
    ".isna().sum()"
   ]
  },
  {
   "cell_type": "code",
   "execution_count": null,
   "metadata": {},
   "outputs": [],
   "source": [
    ".isna().sum()"
   ]
  },
  {
   "cell_type": "markdown",
   "metadata": {},
   "source": [
    "## 1.5 Filling out NaN Values"
   ]
  },
  {
   "cell_type": "markdown",
   "metadata": {},
   "source": [
    "## 1.6 Changing Data Types"
   ]
  },
  {
   "cell_type": "markdown",
   "metadata": {},
   "source": [
    "## 1.7 Descriptive Statistics"
   ]
  },
  {
   "cell_type": "markdown",
   "metadata": {},
   "source": [
    "### 1.7.1 Numerical Attributes"
   ]
  },
  {
   "cell_type": "markdown",
   "metadata": {},
   "source": [
    "### 1.7,2 Categorical Attributes"
   ]
  },
  {
   "cell_type": "markdown",
   "metadata": {},
   "source": [
    "# New heading"
   ]
  },
  {
   "cell_type": "markdown",
   "metadata": {},
   "source": [
    "# 2.0 FEATURE ENGINEERING"
   ]
  },
  {
   "cell_type": "markdown",
   "metadata": {},
   "source": [
    "### 2.0.1 Project Checkpoint"
   ]
  },
  {
   "cell_type": "markdown",
   "metadata": {},
   "source": [
    "# 2.1 Hypothesis MindMap "
   ]
  },
  {
   "cell_type": "markdown",
   "metadata": {},
   "source": [
    "## 2.2 Creating Hypothesis"
   ]
  },
  {
   "cell_type": "markdown",
   "metadata": {},
   "source": [
    "### New Features"
   ]
  },
  {
   "cell_type": "code",
   "execution_count": null,
   "metadata": {},
   "outputs": [],
   "source": []
  }
 ],
 "metadata": {
  "kernelspec": {
   "display_name": "Python 3",
   "language": "python",
   "name": "python3"
  },
  "language_info": {
   "codemirror_mode": {
    "name": "ipython",
    "version": 3
   },
   "file_extension": ".py",
   "mimetype": "text/x-python",
   "name": "python",
   "nbconvert_exporter": "python",
   "pygments_lexer": "ipython3",
   "version": "3.7.6"
  }
 },
 "nbformat": 4,
 "nbformat_minor": 4
}
